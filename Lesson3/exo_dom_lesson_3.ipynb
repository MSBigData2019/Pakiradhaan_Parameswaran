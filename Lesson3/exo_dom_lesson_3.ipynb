{
 "cells": [
  {
   "cell_type": "markdown",
   "metadata": {},
   "source": [
    "# Contributeurs GitHub"
   ]
  },
  {
   "cell_type": "markdown",
   "metadata": {},
   "source": [
    "- Récupérer via crawling la liste des 256 top contributors sur cette page https://gist.github.com/paulmillr/2657075 \n",
    "- En utilisant l'API github https://developer.github.com/v3/ récupérer pour chacun de ces users le nombre moyens de stars des repositories qui leur appartiennent. Pour finir classer ces 256 contributors par leur note moyenne"
   ]
  },
  {
   "cell_type": "code",
   "execution_count": 100,
   "metadata": {},
   "outputs": [],
   "source": [
    "from bs4 import BeautifulSoup\n",
    "import pandas as pd\n",
    "import requests\n",
    "import numpy as np\n",
    "import json"
   ]
  },
  {
   "cell_type": "code",
   "execution_count": 101,
   "metadata": {},
   "outputs": [],
   "source": [
    "def get_soup_from_link(link) :\n",
    "    hdr = {'User-Agent': 'Mozilla/5.0'}\n",
    "    req = requests.get(link, headers=hdr)\n",
    "    soup = BeautifulSoup(req.content, 'html.parser')\n",
    "    return soup"
   ]
  },
  {
   "cell_type": "code",
   "execution_count": 105,
   "metadata": {},
   "outputs": [],
   "source": [
    "username = \"Pakiradhaan\"\n",
    "token = open(\"key.txt\", \"r\").read()\n",
    "\n",
    "def get_stars_from_user(user) :\n",
    "    liste = []\n",
    "    git_api_url = \"https://api.github.com/users/\" + user + \"/repos\"\n",
    "    response = requests.get(git_api_url, auth=(username,token))\n",
    "    while True :\n",
    "        json_response = json.loads(response.content)\n",
    "        if isinstance(json_response, str) :\n",
    "            print(json_response)\n",
    "            break\n",
    "        liste = liste + list(map(lambda x : x.get('stargazers_count'), json_response))\n",
    "        if 'next' in response.links.keys() :\n",
    "            response = requests.get(response.links['next']['url'], auth=(username,token))\n",
    "        else :\n",
    "            break\n",
    "    return 0 if (not liste) else np.mean(liste)"
   ]
  },
  {
   "cell_type": "code",
   "execution_count": 103,
   "metadata": {},
   "outputs": [],
   "source": [
    "soup = get_soup_from_link(\"https://gist.github.com/paulmillr/2657075\")\n",
    "\n",
    "all_a = list(map(lambda x : x.find('a'), soup.find('table').findAll('tr')))\n",
    "all_contrib = list(map(lambda x : x.text, [x for x in all_a if x is not None]))"
   ]
  },
  {
   "cell_type": "code",
   "execution_count": 111,
   "metadata": {},
   "outputs": [],
   "source": [
    "res = list(map(lambda x : get_stars_from_user(x), all_contrib))"
   ]
  },
  {
   "cell_type": "code",
   "execution_count": 114,
   "metadata": {},
   "outputs": [
    {
     "data": {
      "text/html": [
       "<div>\n",
       "<style scoped>\n",
       "    .dataframe tbody tr th:only-of-type {\n",
       "        vertical-align: middle;\n",
       "    }\n",
       "\n",
       "    .dataframe tbody tr th {\n",
       "        vertical-align: top;\n",
       "    }\n",
       "\n",
       "    .dataframe thead th {\n",
       "        text-align: right;\n",
       "    }\n",
       "</style>\n",
       "<table border=\"1\" class=\"dataframe\">\n",
       "  <thead>\n",
       "    <tr style=\"text-align: right;\">\n",
       "      <th></th>\n",
       "      <th>Contributeur</th>\n",
       "      <th>Note moyenne</th>\n",
       "    </tr>\n",
       "  </thead>\n",
       "  <tbody>\n",
       "    <tr>\n",
       "      <th>225</th>\n",
       "      <td>bailicangdu</td>\n",
       "      <td>3502.923077</td>\n",
       "    </tr>\n",
       "    <tr>\n",
       "      <th>18</th>\n",
       "      <td>kamranahmedse</td>\n",
       "      <td>2274.113636</td>\n",
       "    </tr>\n",
       "    <tr>\n",
       "      <th>142</th>\n",
       "      <td>vinta</td>\n",
       "      <td>1829.843750</td>\n",
       "    </tr>\n",
       "    <tr>\n",
       "      <th>117</th>\n",
       "      <td>mrdoob</td>\n",
       "      <td>1597.085714</td>\n",
       "    </tr>\n",
       "    <tr>\n",
       "      <th>194</th>\n",
       "      <td>IanLunn</td>\n",
       "      <td>1401.888889</td>\n",
       "    </tr>\n",
       "    <tr>\n",
       "      <th>44</th>\n",
       "      <td>sebastianbergmann</td>\n",
       "      <td>1387.816667</td>\n",
       "    </tr>\n",
       "    <tr>\n",
       "      <th>230</th>\n",
       "      <td>junyanz</td>\n",
       "      <td>1372.785714</td>\n",
       "    </tr>\n",
       "    <tr>\n",
       "      <th>153</th>\n",
       "      <td>nolimits4web</td>\n",
       "      <td>1338.571429</td>\n",
       "    </tr>\n",
       "    <tr>\n",
       "      <th>195</th>\n",
       "      <td>ruanyf</td>\n",
       "      <td>1260.584906</td>\n",
       "    </tr>\n",
       "    <tr>\n",
       "      <th>109</th>\n",
       "      <td>JakeWharton</td>\n",
       "      <td>1072.850000</td>\n",
       "    </tr>\n",
       "  </tbody>\n",
       "</table>\n",
       "</div>"
      ],
      "text/plain": [
       "          Contributeur  Note moyenne\n",
       "225        bailicangdu   3502.923077\n",
       "18       kamranahmedse   2274.113636\n",
       "142              vinta   1829.843750\n",
       "117             mrdoob   1597.085714\n",
       "194            IanLunn   1401.888889\n",
       "44   sebastianbergmann   1387.816667\n",
       "230            junyanz   1372.785714\n",
       "153       nolimits4web   1338.571429\n",
       "195             ruanyf   1260.584906\n",
       "109        JakeWharton   1072.850000"
      ]
     },
     "execution_count": 114,
     "metadata": {},
     "output_type": "execute_result"
    }
   ],
   "source": [
    "df = pd.DataFrame({'Contributeur':all_contrib, 'Note moyenne':res})\n",
    "df.sort_values(['Note moyenne'], ascending = False).head(10)"
   ]
  }
 ],
 "metadata": {
  "kernelspec": {
   "display_name": "Python 3",
   "language": "python",
   "name": "python3"
  },
  "language_info": {
   "codemirror_mode": {
    "name": "ipython",
    "version": 3
   },
   "file_extension": ".py",
   "mimetype": "text/x-python",
   "name": "python",
   "nbconvert_exporter": "python",
   "pygments_lexer": "ipython3",
   "version": "3.6.5"
  }
 },
 "nbformat": 4,
 "nbformat_minor": 2
}
