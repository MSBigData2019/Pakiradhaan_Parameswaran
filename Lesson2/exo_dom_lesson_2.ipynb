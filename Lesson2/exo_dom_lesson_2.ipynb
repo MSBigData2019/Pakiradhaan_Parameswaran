{
 "cells": [
  {
   "cell_type": "markdown",
   "metadata": {},
   "source": [
    "## Web Scaping"
   ]
  },
  {
   "cell_type": "markdown",
   "metadata": {},
   "source": [
    "Pour les sociétés suivantes : Aribus, LVMH et Danone : \n",
    "\n",
    "* les ventes au quartier à fin décembre 2018 ;\n",
    "* le prix de l'action et son % de changement au moment du crawling ;\n",
    "* le % Shares Owned des investisseurs institutionels ;\n",
    "* le dividende yield de la company, le secteur et de l'industrie."
   ]
  },
  {
   "cell_type": "code",
   "execution_count": 98,
   "metadata": {},
   "outputs": [],
   "source": [
    "import urllib.request as urllib\n",
    "from bs4 import BeautifulSoup\n",
    "import pandas as pd\n",
    "import requests"
   ]
  },
  {
   "cell_type": "code",
   "execution_count": 105,
   "metadata": {},
   "outputs": [],
   "source": [
    "main_url = \"https://www.reuters.com\"\n",
    "search_path = \"/finance/stocks/lookup\"\n",
    "financial_path = \"/finance/stocks/financial-highlights/\"\n",
    "societes = ['LVMH', 'AirBus', 'Danone']\n",
    "result = pd.DataFrame(columns=['sales_quater','share_price','share_evol','share_owned','div_company','div_secteur','div_indus'])"
   ]
  },
  {
   "cell_type": "code",
   "execution_count": 100,
   "metadata": {},
   "outputs": [],
   "source": [
    "def get_soup_from_link(link) :\n",
    "    page = urllib.urlopen(link)\n",
    "    soup = BeautifulSoup(page, 'html.parser')\n",
    "    return soup"
   ]
  },
  {
   "cell_type": "code",
   "execution_count": 101,
   "metadata": {},
   "outputs": [],
   "source": [
    "def get_symbol(society, link) :\n",
    "    payload = {'search': society, 'searchType' : 'any'}\n",
    "    r = requests.get(link, params=payload)\n",
    "    soup = get_soup_from_link(r.url)\n",
    "    return soup.find('td', string=\"Paris Stock Exchange\").find_previous_sibling('td').text"
   ]
  },
  {
   "cell_type": "code",
   "execution_count": 102,
   "metadata": {},
   "outputs": [],
   "source": [
    "def get_info_from_link(link) :\n",
    "    soup = get_soup_from_link(society_link)\n",
    "    sales_quater = float(soup.find(\"td\", string='Quarter Ending\\xa0Dec-18').parent.find_all(\"td\")[2].text.replace(',',''))\n",
    "    share_price = float(soup.find(\"div\", class_=\"sectionQuoteDetail\").find_all(\"span\")[1].text.strip())\n",
    "    share_evol = soup.find(\"span\", class_=\"valueContentPercent\").find(\"span\").text.strip().replace('(','').replace(')','')\n",
    "    share_owned = soup.find(\"strong\", string=\"% Shares Owned:\").findNext().text\n",
    "    dividende = soup.find(\"td\", string=\"Dividend Yield\").parent.find_all(\"td\", class_=\"data\")\n",
    "    div_company = float(dividende[0].text)\n",
    "    div_secteur = float(dividende[1].text)\n",
    "    div_indus = float(dividende[2].text)\n",
    "    return [sales_quater, share_price, share_evol, share_owned, div_company, div_secteur, div_indus]"
   ]
  },
  {
   "cell_type": "code",
   "execution_count": 106,
   "metadata": {},
   "outputs": [],
   "source": [
    "for societe in societes :\n",
    "    society_link = main_url + financial_path + get_symbol(societe, main_url + search_path)\n",
    "    result.loc[societe] = get_info_from_link(society_link)"
   ]
  },
  {
   "cell_type": "code",
   "execution_count": 110,
   "metadata": {},
   "outputs": [
    {
     "data": {
      "text/html": [
       "<div>\n",
       "<style scoped>\n",
       "    .dataframe tbody tr th:only-of-type {\n",
       "        vertical-align: middle;\n",
       "    }\n",
       "\n",
       "    .dataframe tbody tr th {\n",
       "        vertical-align: top;\n",
       "    }\n",
       "\n",
       "    .dataframe thead th {\n",
       "        text-align: right;\n",
       "    }\n",
       "</style>\n",
       "<table border=\"1\" class=\"dataframe\">\n",
       "  <thead>\n",
       "    <tr style=\"text-align: right;\">\n",
       "      <th></th>\n",
       "      <th>sales_quater</th>\n",
       "      <th>share_price</th>\n",
       "      <th>share_evol</th>\n",
       "      <th>share_owned</th>\n",
       "      <th>div_company</th>\n",
       "      <th>div_secteur</th>\n",
       "      <th>div_indus</th>\n",
       "    </tr>\n",
       "  </thead>\n",
       "  <tbody>\n",
       "    <tr>\n",
       "      <th>LVMH</th>\n",
       "      <td>13667.7</td>\n",
       "      <td>274.15</td>\n",
       "      <td>-4.04%</td>\n",
       "      <td>20.57%</td>\n",
       "      <td>1.92</td>\n",
       "      <td>1.70</td>\n",
       "      <td>2.60</td>\n",
       "    </tr>\n",
       "    <tr>\n",
       "      <th>AirBus</th>\n",
       "      <td>23493.0</td>\n",
       "      <td>102.06</td>\n",
       "      <td>-0.43%</td>\n",
       "      <td>43.53%</td>\n",
       "      <td>1.45</td>\n",
       "      <td>1.34</td>\n",
       "      <td>1.64</td>\n",
       "    </tr>\n",
       "    <tr>\n",
       "      <th>Danone</th>\n",
       "      <td>6072.6</td>\n",
       "      <td>65.32</td>\n",
       "      <td>-0.49%</td>\n",
       "      <td>50.60%</td>\n",
       "      <td>2.90</td>\n",
       "      <td>2.78</td>\n",
       "      <td>2.48</td>\n",
       "    </tr>\n",
       "  </tbody>\n",
       "</table>\n",
       "</div>"
      ],
      "text/plain": [
       "        sales_quater  share_price share_evol share_owned  div_company  \\\n",
       "LVMH         13667.7       274.15     -4.04%      20.57%         1.92   \n",
       "AirBus       23493.0       102.06     -0.43%      43.53%         1.45   \n",
       "Danone        6072.6        65.32     -0.49%      50.60%         2.90   \n",
       "\n",
       "        div_secteur  div_indus  \n",
       "LVMH           1.70       2.60  \n",
       "AirBus         1.34       1.64  \n",
       "Danone         2.78       2.48  "
      ]
     },
     "execution_count": 110,
     "metadata": {},
     "output_type": "execute_result"
    }
   ],
   "source": [
    "result"
   ]
  }
 ],
 "metadata": {
  "kernelspec": {
   "display_name": "Python 3",
   "language": "python",
   "name": "python3"
  },
  "language_info": {
   "codemirror_mode": {
    "name": "ipython",
    "version": 3
   },
   "file_extension": ".py",
   "mimetype": "text/x-python",
   "name": "python",
   "nbconvert_exporter": "python",
   "pygments_lexer": "ipython3",
   "version": "3.6.5"
  }
 },
 "nbformat": 4,
 "nbformat_minor": 2
}
