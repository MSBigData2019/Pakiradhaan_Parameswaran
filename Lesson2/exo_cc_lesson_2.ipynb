{
 "cells": [
  {
   "cell_type": "markdown",
   "metadata": {},
   "source": [
    "# Identifier les marques de PC proposant le plus de rabais"
   ]
  },
  {
   "cell_type": "code",
   "execution_count": 1,
   "metadata": {},
   "outputs": [],
   "source": [
    "from bs4 import BeautifulSoup\n",
    "import pandas as pd\n",
    "from urllib.request import Request, urlopen\n",
    "import numpy as np"
   ]
  },
  {
   "cell_type": "code",
   "execution_count": 3,
   "metadata": {},
   "outputs": [],
   "source": [
    "def get_soup_from_link(link) :\n",
    "    hdr = {'User-Agent': 'Mozilla/5.0'}\n",
    "    req = Request(link, headers=hdr)\n",
    "    page = urlopen(req)\n",
    "    soup = BeautifulSoup(page, 'html.parser')\n",
    "    return soup"
   ]
  },
  {
   "cell_type": "code",
   "execution_count": 97,
   "metadata": {},
   "outputs": [],
   "source": [
    "all_price = []\n",
    "all_name = []\n",
    "main_url = \"https://www.darty.com/nav/achat/informatique/ordinateur_portable/portable/\"\n",
    "\n",
    "for page in ['index'] + [y for x in [np.arange(2,10).tolist()] for y in x] :\n",
    "    \n",
    "    if page != 'index' :\n",
    "        url = main_url + \"page\" + str(page) + \".html\"\n",
    "    else :\n",
    "        url = main_url + str(page) + \".html\"\n",
    "        \n",
    "    soup = get_soup_from_link(url)\n",
    "    \n",
    "    products = soup.findAll('div', class_='product_detail next_prev_info ')\n",
    "    all_name = all_name + list(map(lambda i: i.find('div', class_ = 'prd-name').find('a', class_ = 'next_prev').text, products))\n",
    "    all_price = all_price + list(map(lambda i: i.find('p' , class_=\"darty_prix_barre_remise darty_small separator_top\"), products))\n",
    "    \n",
    "res = {'Brand' : list(map(lambda x : x[:x.index(' ')], all_name)), 'Discount Rate' : list(map(lambda x : float(0) if x==None else float(x.text[2:-1]), all_price))}\n",
    "df = pd.DataFrame(res)"
   ]
  },
  {
   "cell_type": "code",
   "execution_count": 101,
   "metadata": {},
   "outputs": [
    {
     "data": {
      "text/html": [
       "<div>\n",
       "<style scoped>\n",
       "    .dataframe tbody tr th:only-of-type {\n",
       "        vertical-align: middle;\n",
       "    }\n",
       "\n",
       "    .dataframe tbody tr th {\n",
       "        vertical-align: top;\n",
       "    }\n",
       "\n",
       "    .dataframe thead th {\n",
       "        text-align: right;\n",
       "    }\n",
       "</style>\n",
       "<table border=\"1\" class=\"dataframe\">\n",
       "  <thead>\n",
       "    <tr style=\"text-align: right;\">\n",
       "      <th></th>\n",
       "      <th>Brand</th>\n",
       "      <th>Discount Rate</th>\n",
       "    </tr>\n",
       "  </thead>\n",
       "  <tbody>\n",
       "    <tr>\n",
       "      <th>6</th>\n",
       "      <td>Ordissimo</td>\n",
       "      <td>21.000000</td>\n",
       "    </tr>\n",
       "    <tr>\n",
       "      <th>4</th>\n",
       "      <td>Microsoft</td>\n",
       "      <td>12.142857</td>\n",
       "    </tr>\n",
       "    <tr>\n",
       "      <th>5</th>\n",
       "      <td>Msi</td>\n",
       "      <td>10.800000</td>\n",
       "    </tr>\n",
       "    <tr>\n",
       "      <th>1</th>\n",
       "      <td>Asus</td>\n",
       "      <td>9.880597</td>\n",
       "    </tr>\n",
       "    <tr>\n",
       "      <th>0</th>\n",
       "      <td>Acer</td>\n",
       "      <td>9.382353</td>\n",
       "    </tr>\n",
       "    <tr>\n",
       "      <th>3</th>\n",
       "      <td>Lenovo</td>\n",
       "      <td>9.375000</td>\n",
       "    </tr>\n",
       "    <tr>\n",
       "      <th>2</th>\n",
       "      <td>Hp</td>\n",
       "      <td>5.478873</td>\n",
       "    </tr>\n",
       "    <tr>\n",
       "      <th>7</th>\n",
       "      <td>Packard</td>\n",
       "      <td>0.000000</td>\n",
       "    </tr>\n",
       "    <tr>\n",
       "      <th>8</th>\n",
       "      <td>Thomson</td>\n",
       "      <td>0.000000</td>\n",
       "    </tr>\n",
       "  </tbody>\n",
       "</table>\n",
       "</div>"
      ],
      "text/plain": [
       "       Brand  Discount Rate\n",
       "6  Ordissimo      21.000000\n",
       "4  Microsoft      12.142857\n",
       "5        Msi      10.800000\n",
       "1       Asus       9.880597\n",
       "0       Acer       9.382353\n",
       "3     Lenovo       9.375000\n",
       "2         Hp       5.478873\n",
       "7    Packard       0.000000\n",
       "8    Thomson       0.000000"
      ]
     },
     "execution_count": 101,
     "metadata": {},
     "output_type": "execute_result"
    }
   ],
   "source": [
    "df.groupby(['Brand'], as_index=False).mean().sort_values(['Discount Rate'], ascending = False)"
   ]
  }
 ],
 "metadata": {
  "kernelspec": {
   "display_name": "Python 3",
   "language": "python",
   "name": "python3"
  },
  "language_info": {
   "codemirror_mode": {
    "name": "ipython",
    "version": 3
   },
   "file_extension": ".py",
   "mimetype": "text/x-python",
   "name": "python",
   "nbconvert_exporter": "python",
   "pygments_lexer": "ipython3",
   "version": "3.6.5"
  }
 },
 "nbformat": 4,
 "nbformat_minor": 2
}
